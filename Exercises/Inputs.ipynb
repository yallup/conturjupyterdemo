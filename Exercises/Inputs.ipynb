{
 "cells": [
  {
   "cell_type": "markdown",
   "metadata": {},
   "source": [
    "Input and Outputs with Contur\n",
    "======"
   ]
  },
  {
   "cell_type": "markdown",
   "metadata": {},
   "source": [
    "Constraints on New Theories Using Rivet [(Contur @ HEPForge)](https://contur.hepforge.org)\n",
    "\n",
    "Is a Python packaged developed to aid exploration of hypothesised physics models at the LHC!"
   ]
  },
  {
   "cell_type": "markdown",
   "metadata": {},
   "source": [
    "## Event Generators\n",
    "\n",
    "Theoretical models are vital for an experiment to understand the phenomena and effects is observes. At the LHC the workhorse that provides a lot of the "
   ]
  }
 ],
 "metadata": {
  "kernelspec": {
   "display_name": "Python 2",
   "language": "python",
   "name": "python2"
  },
  "language_info": {
   "name": ""
  }
 },
 "nbformat": 4,
 "nbformat_minor": 1
}
