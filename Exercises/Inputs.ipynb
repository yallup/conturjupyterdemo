{
 "cells": [
  {
   "cell_type": "markdown",
   "metadata": {},
   "source": [
    "Input and Outputs with Contur\n",
    "======"
   ]
  },
  {
   "cell_type": "markdown",
   "metadata": {},
   "source": [
    "Constraints on New Theories Using Rivet [(Contur @ HEPForge)](https://contur.hepforge.org)\n",
    "\n",
    "Is a Python packaged developed to aid exploration of hypothesised physics models at the LHC!"
   ]
  },
  {
   "cell_type": "markdown",
   "metadata": {},
   "source": [
    "## Event Generators\n",
    "\n",
    "Theoretical models are vital for an experiment to understand the phenomena and effects is observes. At the LHC the workhorse that provides a lot of the "
   ]
  },
  {
   "cell_type": "code",
   "execution_count": null,
   "metadata": {},
   "outputs": [],
   "source": [
    "from utils import run_command\n",
    "#subprocess.call(\"Herwig read SimpleHerwigRun.in\",shell=True)\n",
    "run_command(\"Herwig read SimpleHerwigRun.in\")"
   ]
  },
  {
   "cell_type": "code",
   "execution_count": null,
   "metadata": {},
   "outputs": [],
   "source": [
    "makefifo=\"mkfifo SimpleHerwigRun.hepmc\"\n",
    "herwigrun=\"Herwig run SimpleHerwigRun.run -N 100\"\n",
    "rivetrun=\"rivet -a ATLAS_2017_I1514251 SimpleHerwigRun.hepmc\"\n",
    "subprocess.call(makefifo,shell=True)\n",
    "#subprocess.call(\"%s & %s\" % (herwigrun,rivetrun),shell=True )\n",
    "run_command(\"%s & %s\" % (herwigrun,rivetrun))"
   ]
  }
 ],
 "metadata": {
  "kernelspec": {
   "display_name": "Python 2",
   "language": "python",
   "name": "python2"
  },
  "language_info": {
   "name": ""
  }
 },
 "nbformat": 4,
 "nbformat_minor": 1
}
